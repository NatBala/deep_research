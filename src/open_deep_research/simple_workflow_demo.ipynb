{
  "cells": [
    {
      "cell_type": "code",
      "execution_count": null,
      "metadata": {
        "vscode": {
          "languageId": "plaintext"
        }
      },
      "outputs": [],
      "source": [
        "# Simple Research Workflow Demo\n",
        "\n",
        "This notebook demonstrates the simplified research workflow that:\n",
        "\n",
        "1. **Takes a topic** and creates an initial summary with 3 sections\n",
        "2. **Generates sub-queries** for each section \n",
        "3. **Retrieves content** using Tavily search\n",
        "4. **Creates detailed summaries** for each section\n",
        "5. **Generates a final report**\n",
        "\n",
        "**Technologies Used:**\n",
        "- 🔍 **Tavily Search** for content retrieval\n",
        "- 🤖 **OpenAI GPT-4o** for all AI tasks\n",
        "- 🕸️ **LangGraph** for workflow orchestration\n"
      ]
    }
  ],
  "metadata": {
    "language_info": {
      "name": "python"
    }
  },
  "nbformat": 4,
  "nbformat_minor": 2
}
